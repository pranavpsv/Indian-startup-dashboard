{
 "cells": [
  {
   "cell_type": "code",
   "execution_count": 1,
   "metadata": {},
   "outputs": [],
   "source": [
    "import pandas as pd\n",
    "import numpy as np\n",
    "import seaborn as sns\n",
    "import matplotlib.pyplot as plt"
   ]
  },
  {
   "cell_type": "code",
   "execution_count": 2,
   "metadata": {},
   "outputs": [],
   "source": [
    "df = pd.read_csv(\"startup_funding.csv\")"
   ]
  },
  {
   "cell_type": "code",
   "execution_count": 3,
   "metadata": {},
   "outputs": [
    {
     "data": {
      "text/html": [
       "<div>\n",
       "<style scoped>\n",
       "    .dataframe tbody tr th:only-of-type {\n",
       "        vertical-align: middle;\n",
       "    }\n",
       "\n",
       "    .dataframe tbody tr th {\n",
       "        vertical-align: top;\n",
       "    }\n",
       "\n",
       "    .dataframe thead th {\n",
       "        text-align: right;\n",
       "    }\n",
       "</style>\n",
       "<table border=\"1\" class=\"dataframe\">\n",
       "  <thead>\n",
       "    <tr style=\"text-align: right;\">\n",
       "      <th></th>\n",
       "      <th>Industry</th>\n",
       "      <th>Date</th>\n",
       "      <th>StartupName</th>\n",
       "      <th>IndustryVertical</th>\n",
       "      <th>SubVertical</th>\n",
       "      <th>CityLocation</th>\n",
       "      <th>InvestorsName</th>\n",
       "      <th>InvestmentType</th>\n",
       "      <th>AmountInUSD</th>\n",
       "      <th>Remarks</th>\n",
       "    </tr>\n",
       "  </thead>\n",
       "  <tbody>\n",
       "    <tr>\n",
       "      <th>0</th>\n",
       "      <td>Industry</td>\n",
       "      <td>1/8/2017</td>\n",
       "      <td>TouchKin</td>\n",
       "      <td>Technology</td>\n",
       "      <td>Predictive Care Platform</td>\n",
       "      <td>Bangalore</td>\n",
       "      <td>Kae Capital</td>\n",
       "      <td>Private Equity</td>\n",
       "      <td>1,300,000</td>\n",
       "      <td>NaN</td>\n",
       "    </tr>\n",
       "    <tr>\n",
       "      <th>1</th>\n",
       "      <td>Industry</td>\n",
       "      <td>2/8/2017</td>\n",
       "      <td>Ethinos</td>\n",
       "      <td>Technology</td>\n",
       "      <td>Digital Marketing Agency</td>\n",
       "      <td>Mumbai</td>\n",
       "      <td>Triton Investment Advisors</td>\n",
       "      <td>Private Equity</td>\n",
       "      <td>NaN</td>\n",
       "      <td>NaN</td>\n",
       "    </tr>\n",
       "    <tr>\n",
       "      <th>2</th>\n",
       "      <td>Industry</td>\n",
       "      <td>2/8/2017</td>\n",
       "      <td>Leverage Edu</td>\n",
       "      <td>Consumer Internet</td>\n",
       "      <td>Online platform for Higher Education Services</td>\n",
       "      <td>New Delhi</td>\n",
       "      <td>Kashyap Deorah, Anand Sankeshwar, Deepak Jain,...</td>\n",
       "      <td>Seed Funding</td>\n",
       "      <td>NaN</td>\n",
       "      <td>NaN</td>\n",
       "    </tr>\n",
       "    <tr>\n",
       "      <th>3</th>\n",
       "      <td>Industry</td>\n",
       "      <td>2/8/2017</td>\n",
       "      <td>Zepo</td>\n",
       "      <td>Consumer Internet</td>\n",
       "      <td>DIY Ecommerce platform</td>\n",
       "      <td>Mumbai</td>\n",
       "      <td>Kunal Shah, LetsVenture, Anupam Mittal, Hetal ...</td>\n",
       "      <td>Seed Funding</td>\n",
       "      <td>500,000</td>\n",
       "      <td>NaN</td>\n",
       "    </tr>\n",
       "    <tr>\n",
       "      <th>4</th>\n",
       "      <td>Industry</td>\n",
       "      <td>2/8/2017</td>\n",
       "      <td>Click2Clinic</td>\n",
       "      <td>Consumer Internet</td>\n",
       "      <td>healthcare service aggregator</td>\n",
       "      <td>Hyderabad</td>\n",
       "      <td>Narottam Thudi, Shireesh Palle</td>\n",
       "      <td>Seed Funding</td>\n",
       "      <td>850,000</td>\n",
       "      <td>NaN</td>\n",
       "    </tr>\n",
       "  </tbody>\n",
       "</table>\n",
       "</div>"
      ],
      "text/plain": [
       "   Industry      Date   StartupName   IndustryVertical  \\\n",
       "0  Industry  1/8/2017      TouchKin         Technology   \n",
       "1  Industry  2/8/2017       Ethinos         Technology   \n",
       "2  Industry  2/8/2017  Leverage Edu  Consumer Internet   \n",
       "3  Industry  2/8/2017          Zepo  Consumer Internet   \n",
       "4  Industry  2/8/2017  Click2Clinic  Consumer Internet   \n",
       "\n",
       "                                     SubVertical CityLocation  \\\n",
       "0                       Predictive Care Platform    Bangalore   \n",
       "1                       Digital Marketing Agency       Mumbai   \n",
       "2  Online platform for Higher Education Services    New Delhi   \n",
       "3                         DIY Ecommerce platform       Mumbai   \n",
       "4                  healthcare service aggregator    Hyderabad   \n",
       "\n",
       "                                       InvestorsName  InvestmentType  \\\n",
       "0                                        Kae Capital  Private Equity   \n",
       "1                         Triton Investment Advisors  Private Equity   \n",
       "2  Kashyap Deorah, Anand Sankeshwar, Deepak Jain,...    Seed Funding   \n",
       "3  Kunal Shah, LetsVenture, Anupam Mittal, Hetal ...    Seed Funding   \n",
       "4                     Narottam Thudi, Shireesh Palle    Seed Funding   \n",
       "\n",
       "  AmountInUSD Remarks  \n",
       "0   1,300,000     NaN  \n",
       "1         NaN     NaN  \n",
       "2         NaN     NaN  \n",
       "3     500,000     NaN  \n",
       "4     850,000     NaN  "
      ]
     },
     "execution_count": 3,
     "metadata": {},
     "output_type": "execute_result"
    }
   ],
   "source": [
    "#See sample data\n",
    "df.head()"
   ]
  },
  {
   "cell_type": "code",
   "execution_count": 4,
   "metadata": {},
   "outputs": [],
   "source": [
    "#Drop useless columns\n",
    "df.drop(columns =[\"Remarks\"], inplace=True)"
   ]
  },
  {
   "cell_type": "code",
   "execution_count": 5,
   "metadata": {},
   "outputs": [
    {
     "name": "stdout",
     "output_type": "stream",
     "text": [
      "<class 'pandas.core.frame.DataFrame'>\n",
      "RangeIndex: 2372 entries, 0 to 2371\n",
      "Data columns (total 9 columns):\n",
      "Industry            2372 non-null object\n",
      "Date                2372 non-null object\n",
      "StartupName         2372 non-null object\n",
      "IndustryVertical    2201 non-null object\n",
      "SubVertical         1436 non-null object\n",
      "CityLocation        2193 non-null object\n",
      "InvestorsName       2364 non-null object\n",
      "InvestmentType      2371 non-null object\n",
      "AmountInUSD         1525 non-null object\n",
      "dtypes: object(9)\n",
      "memory usage: 166.9+ KB\n"
     ]
    }
   ],
   "source": [
    "# See basic info of dataset\n",
    "df.info()"
   ]
  },
  {
   "cell_type": "code",
   "execution_count": 6,
   "metadata": {},
   "outputs": [
    {
     "data": {
      "text/plain": [
       "0    1,300,000\n",
       "1          NaN\n",
       "2          NaN\n",
       "3      500,000\n",
       "4      850,000\n",
       "Name: AmountInUSD, dtype: object"
      ]
     },
     "execution_count": 6,
     "metadata": {},
     "output_type": "execute_result"
    }
   ],
   "source": [
    "#Interesting... No numbers even though AmountinUSD should be numerical.\n",
    "# Try converting AmountinUSD to numbers\n",
    "df.AmountInUSD.head()"
   ]
  },
  {
   "cell_type": "code",
   "execution_count": 7,
   "metadata": {},
   "outputs": [],
   "source": [
    "def str_to_num(item):\n",
    "    if (type(item) == str):\n",
    "        return float(item.replace(\",\",\"\"))\n",
    "        "
   ]
  },
  {
   "cell_type": "code",
   "execution_count": 8,
   "metadata": {},
   "outputs": [],
   "source": [
    "df.AmountInUSD = df.AmountInUSD.apply(str_to_num)"
   ]
  },
  {
   "cell_type": "code",
   "execution_count": 9,
   "metadata": {},
   "outputs": [
    {
     "name": "stdout",
     "output_type": "stream",
     "text": [
      "<class 'pandas.core.frame.DataFrame'>\n",
      "RangeIndex: 2372 entries, 0 to 2371\n",
      "Data columns (total 9 columns):\n",
      "Industry            2372 non-null object\n",
      "Date                2372 non-null object\n",
      "StartupName         2372 non-null object\n",
      "IndustryVertical    2201 non-null object\n",
      "SubVertical         1436 non-null object\n",
      "CityLocation        2193 non-null object\n",
      "InvestorsName       2364 non-null object\n",
      "InvestmentType      2371 non-null object\n",
      "AmountInUSD         1525 non-null float64\n",
      "dtypes: float64(1), object(8)\n",
      "memory usage: 166.9+ KB\n"
     ]
    }
   ],
   "source": [
    "#Converted Amount to numerical data\n",
    "df.info()"
   ]
  },
  {
   "cell_type": "code",
   "execution_count": 10,
   "metadata": {},
   "outputs": [
    {
     "data": {
      "text/plain": [
       "Bangalore    627\n",
       "Mumbai       446\n",
       "New Delhi    381\n",
       "Gurgaon      240\n",
       "Pune          84\n",
       "Noida         78\n",
       "Hyderabad     76\n",
       "Chennai       66\n",
       "Ahmedabad     35\n",
       "Jaipur        25\n",
       "Name: CityLocation, dtype: int64"
      ]
     },
     "execution_count": 10,
     "metadata": {},
     "output_type": "execute_result"
    }
   ],
   "source": [
    "# See most popular cities for startups.\n",
    "df.CityLocation.value_counts().head(10)"
   ]
  },
  {
   "cell_type": "code",
   "execution_count": 11,
   "metadata": {},
   "outputs": [
    {
     "data": {
      "text/plain": [
       "Seed Funding      1271\n",
       "Private Equity    1066\n",
       "SeedFunding         30\n",
       "PrivateEquity        1\n",
       "Crowd Funding        1\n",
       "Debt Funding         1\n",
       "Crowd funding        1\n",
       "Name: InvestmentType, dtype: int64"
      ]
     },
     "execution_count": 11,
     "metadata": {},
     "output_type": "execute_result"
    }
   ],
   "source": [
    "# Unsurprisingly, Bangalore takes the cake.\n",
    "df.InvestmentType.value_counts()\n"
   ]
  },
  {
   "cell_type": "code",
   "execution_count": 12,
   "metadata": {},
   "outputs": [],
   "source": [
    "# Repeated values with different spelling for Investment Types. Need to fix.\n",
    "df.loc[df[\"InvestmentType\"]==\"SeedFunding\", \"InvestmentType\"] = \"Seed Funding\"\n",
    "df.loc[df[\"InvestmentType\"] == \"PrivateEquity\", \"InvestmentType\"] = \"Private Equity\"\n",
    "df.loc[df[\"InvestmentType\"]==\"Crowd funding\", \"InvestmentType\"] = \"Crowd Funding\""
   ]
  },
  {
   "cell_type": "code",
   "execution_count": 13,
   "metadata": {},
   "outputs": [
    {
     "data": {
      "text/plain": [
       "Seed Funding      1301\n",
       "Private Equity    1067\n",
       "Crowd Funding        2\n",
       "Debt Funding         1\n",
       "Name: InvestmentType, dtype: int64"
      ]
     },
     "execution_count": 13,
     "metadata": {},
     "output_type": "execute_result"
    }
   ],
   "source": [
    "# Create Interactive bar chart for Investment types. On click interactive event:\n",
    "#   Show firms with most funding with that specific investment type.\n",
    "df.InvestmentType.value_counts()"
   ]
  },
  {
   "cell_type": "code",
   "execution_count": 14,
   "metadata": {},
   "outputs": [],
   "source": [
    "# Create a df with unique firm entries with total Funding - For most popular industries (circle packing data).\n",
    "# After that, create most popular firms by total funding. Filter by type of investment and IndustryType.\n"
   ]
  },
  {
   "cell_type": "code",
   "execution_count": 15,
   "metadata": {},
   "outputs": [
    {
     "data": {
      "text/html": [
       "<div>\n",
       "<style scoped>\n",
       "    .dataframe tbody tr th:only-of-type {\n",
       "        vertical-align: middle;\n",
       "    }\n",
       "\n",
       "    .dataframe tbody tr th {\n",
       "        vertical-align: top;\n",
       "    }\n",
       "\n",
       "    .dataframe thead th {\n",
       "        text-align: right;\n",
       "    }\n",
       "</style>\n",
       "<table border=\"1\" class=\"dataframe\">\n",
       "  <thead>\n",
       "    <tr style=\"text-align: right;\">\n",
       "      <th></th>\n",
       "      <th>AmountInUSD</th>\n",
       "    </tr>\n",
       "  </thead>\n",
       "  <tbody>\n",
       "    <tr>\n",
       "      <th>count</th>\n",
       "      <td>1.525000e+03</td>\n",
       "    </tr>\n",
       "    <tr>\n",
       "      <th>mean</th>\n",
       "      <td>1.203107e+07</td>\n",
       "    </tr>\n",
       "    <tr>\n",
       "      <th>std</th>\n",
       "      <td>6.403118e+07</td>\n",
       "    </tr>\n",
       "    <tr>\n",
       "      <th>min</th>\n",
       "      <td>1.600000e+04</td>\n",
       "    </tr>\n",
       "    <tr>\n",
       "      <th>25%</th>\n",
       "      <td>3.700000e+05</td>\n",
       "    </tr>\n",
       "    <tr>\n",
       "      <th>50%</th>\n",
       "      <td>1.070000e+06</td>\n",
       "    </tr>\n",
       "    <tr>\n",
       "      <th>75%</th>\n",
       "      <td>6.000000e+06</td>\n",
       "    </tr>\n",
       "    <tr>\n",
       "      <th>max</th>\n",
       "      <td>1.400000e+09</td>\n",
       "    </tr>\n",
       "  </tbody>\n",
       "</table>\n",
       "</div>"
      ],
      "text/plain": [
       "        AmountInUSD\n",
       "count  1.525000e+03\n",
       "mean   1.203107e+07\n",
       "std    6.403118e+07\n",
       "min    1.600000e+04\n",
       "25%    3.700000e+05\n",
       "50%    1.070000e+06\n",
       "75%    6.000000e+06\n",
       "max    1.400000e+09"
      ]
     },
     "execution_count": 15,
     "metadata": {},
     "output_type": "execute_result"
    }
   ],
   "source": [
    "# Describe df.\n",
    "df.describe()"
   ]
  },
  {
   "cell_type": "code",
   "execution_count": 16,
   "metadata": {},
   "outputs": [
    {
     "data": {
      "text/html": [
       "<div>\n",
       "<style scoped>\n",
       "    .dataframe tbody tr th:only-of-type {\n",
       "        vertical-align: middle;\n",
       "    }\n",
       "\n",
       "    .dataframe tbody tr th {\n",
       "        vertical-align: top;\n",
       "    }\n",
       "\n",
       "    .dataframe thead th {\n",
       "        text-align: right;\n",
       "    }\n",
       "</style>\n",
       "<table border=\"1\" class=\"dataframe\">\n",
       "  <thead>\n",
       "    <tr style=\"text-align: right;\">\n",
       "      <th></th>\n",
       "      <th>AmountInUSD</th>\n",
       "    </tr>\n",
       "  </thead>\n",
       "  <tbody>\n",
       "    <tr>\n",
       "      <th>0.10</th>\n",
       "      <td>150000.0</td>\n",
       "    </tr>\n",
       "    <tr>\n",
       "      <th>0.95</th>\n",
       "      <td>49000000.0</td>\n",
       "    </tr>\n",
       "  </tbody>\n",
       "</table>\n",
       "</div>"
      ],
      "text/plain": [
       "      AmountInUSD\n",
       "0.10     150000.0\n",
       "0.95   49000000.0"
      ]
     },
     "execution_count": 16,
     "metadata": {},
     "output_type": "execute_result"
    }
   ],
   "source": [
    "df.quantile([.1,.95])"
   ]
  },
  {
   "cell_type": "code",
   "execution_count": 17,
   "metadata": {
    "scrolled": true
   },
   "outputs": [
    {
     "data": {
      "text/plain": [
       "Consumer Internet                                          772\n",
       "Technology                                                 313\n",
       "eCommerce                                                  171\n",
       "ECommerce                                                   53\n",
       "Healthcare                                                  30\n",
       "Logistics                                                   24\n",
       "Education                                                   20\n",
       "Food & Beverage                                             19\n",
       "Finance                                                      9\n",
       "Others                                                       6\n",
       "Online Food Delivery                                         5\n",
       "Online Education Platform                                    5\n",
       "Real Estate                                                  4\n",
       "FMCG                                                         3\n",
       "Logistics Tech                                               3\n",
       "Food Delivery Platform                                       3\n",
       "ecommerce                                                    3\n",
       "Big Data & Analytics platform                                3\n",
       "Hyperlocal Handyman Services                                 3\n",
       "Ecommerce                                                    3\n",
       "Two-Wheeler Taxi Service                                     2\n",
       "Hyper-Local Online/Mobile Grocery                            2\n",
       "Online Hiring Platform                                       2\n",
       "Car & Bike ecommerce platform                                2\n",
       "Food & Beverages                                             2\n",
       "Digital / Mobile Wallet                                      2\n",
       "Internet of Things platform                                  2\n",
       "Interface development platform for Government officials      2\n",
       "Cab rental Mobile app                                        2\n",
       "Logistics Tech Platform                                      2\n",
       "                                                          ... \n",
       "Online Interior Designing platform                           1\n",
       "hyperlocal delivery platform                                 1\n",
       "Kids Tool kit for Innovation platform                        1\n",
       "Restaurant Discount app                                      1\n",
       "Intra-City Logistics service                                 1\n",
       "Online Furniture ecommerce                                   1\n",
       "Online Media Publication                                     1\n",
       "Mobile Marketing Automation Platform                         1\n",
       "Multilingual Test Preparation Platform                       1\n",
       "Online Furniture, Home Appliances Rental Platform            1\n",
       "Beauty & Lifestyle Mobile Marketplace                        1\n",
       "Fashion ECommerce                                            1\n",
       "Internet Network Infrastructure Services                     1\n",
       "Ecommerce Marketing Software Platform                        1\n",
       "bus ticketing and fleet management platform                  1\n",
       "Startup Analytics platform                                   1\n",
       "Financial Inclusion platform                                 1\n",
       "Online Budget Hotel Booking Service                          1\n",
       "Ecommerce Delivery locker services                           1\n",
       "On-demand Service marketplace                                1\n",
       "Virtual Health consultation app                              1\n",
       "Education Marketplace                                        1\n",
       "Residential Rental management platform                       1\n",
       "Online Branded Furniture etailer                             1\n",
       "Community Driven News/Views Platform                         1\n",
       "QSR Restaurant Chain                                         1\n",
       "Mobile Services Marketplace                                  1\n",
       "Railways Information Mobile app                              1\n",
       "Online Counselling and psychological support platform        1\n",
       "Online Product Comparison                                    1\n",
       "Name: IndustryVertical, Length: 743, dtype: int64"
      ]
     },
     "execution_count": 17,
     "metadata": {},
     "output_type": "execute_result"
    }
   ],
   "source": [
    "# First rename IndustryVertical.\n",
    "df.IndustryVertical.value_counts()"
   ]
  },
  {
   "cell_type": "code",
   "execution_count": null,
   "metadata": {},
   "outputs": [],
   "source": [
    "\n",
    "\n"
   ]
  },
  {
   "cell_type": "code",
   "execution_count": 18,
   "metadata": {
    "scrolled": true
   },
   "outputs": [
    {
     "data": {
      "text/plain": [
       "Others               1085\n",
       "Consumer Internet     920\n",
       "eCommerce             265\n",
       "Healthcare             56\n",
       "Education              28\n",
       "Finance                18\n",
       "Name: IndustryVertical, dtype: int64"
      ]
     },
     "execution_count": 18,
     "metadata": {},
     "output_type": "execute_result"
    }
   ],
   "source": [
    "df.loc[df.IndustryVertical.str.contains(\"commerce\", case=False, na=False), \"IndustryVertical\"] = \"eCommerce\"\n",
    "df.loc[df.IndustryVertical.str.contains(\"online\", case=False, na=False), \"IndustryVertical\"] = \"Consumer Internet\"\n",
    "df.loc[df.IndustryVertical.str.contains(\"food\", case=False, na=False), \"IndustryVertical\"] = \"Food & Beverage\"\n",
    "df.loc[df.IndustryVertical.str.contains(\"health\", case=False, na=False), \"IndustryVertical\"] = \"Healthcare\"\n",
    "df.loc[df.IndustryVertical.str.contains(\"education\", case=False, na=False), \"IndustryVertical\"] = \"Education\"\n",
    "df.loc[df.IndustryVertical.str.contains(\"finance|fund\", case=False, na=False), \"IndustryVertical\"] = \"Finance\"\n",
    "allowed_vals = [\"Consumer Internet\",\"Education\", \"Finance\", \"eCommerce\", \"Healthcare\"]\n",
    "df.loc[~df[\"IndustryVertical\"].isin(allowed_vals), \"IndustryVertical\"] = \"Others\"\n",
    "(df.IndustryVertical.value_counts())"
   ]
  },
  {
   "cell_type": "code",
   "execution_count": 19,
   "metadata": {},
   "outputs": [
    {
     "data": {
      "text/plain": [
       "Others               1085\n",
       "Consumer Internet     920\n",
       "eCommerce             265\n",
       "Healthcare             56\n",
       "Education              28\n",
       "Finance                18\n",
       "Name: IndustryVertical, dtype: int64"
      ]
     },
     "execution_count": 19,
     "metadata": {},
     "output_type": "execute_result"
    }
   ],
   "source": [
    "df.IndustryVertical.value_counts()"
   ]
  },
  {
   "cell_type": "code",
   "execution_count": 20,
   "metadata": {},
   "outputs": [],
   "source": [
    "circle_pack_df = df.loc[df[\"IndustryVertical\"] != \"Others\"]"
   ]
  },
  {
   "cell_type": "code",
   "execution_count": 21,
   "metadata": {
    "scrolled": true
   },
   "outputs": [
    {
     "name": "stderr",
     "output_type": "stream",
     "text": [
      "D:\\Anaconda\\lib\\site-packages\\pandas\\core\\generic.py:5096: SettingWithCopyWarning: \n",
      "A value is trying to be set on a copy of a slice from a DataFrame.\n",
      "Try using .loc[row_indexer,col_indexer] = value instead\n",
      "\n",
      "See the caveats in the documentation: http://pandas.pydata.org/pandas-docs/stable/indexing.html#indexing-view-versus-copy\n",
      "  self[name] = value\n"
     ]
    }
   ],
   "source": [
    "circle_pack_df.AmountInUSD = circle_pack_df.AmountInUSD.fillna(0)"
   ]
  },
  {
   "cell_type": "code",
   "execution_count": 22,
   "metadata": {},
   "outputs": [
    {
     "name": "stderr",
     "output_type": "stream",
     "text": [
      "D:\\Anaconda\\lib\\site-packages\\pandas\\core\\frame.py:3940: SettingWithCopyWarning: \n",
      "A value is trying to be set on a copy of a slice from a DataFrame\n",
      "\n",
      "See the caveats in the documentation: http://pandas.pydata.org/pandas-docs/stable/indexing.html#indexing-view-versus-copy\n",
      "  errors=errors)\n"
     ]
    }
   ],
   "source": [
    "circle_pack_df.drop(columns=[\"SubVertical\"], inplace=True)"
   ]
  },
  {
   "cell_type": "code",
   "execution_count": 23,
   "metadata": {},
   "outputs": [],
   "source": [
    "circle_pack_df = circle_pack_df.drop_duplicates(subset='StartupName', keep='first')"
   ]
  },
  {
   "cell_type": "code",
   "execution_count": 24,
   "metadata": {},
   "outputs": [],
   "source": [
    "circle_pack_df[\"value\"] = 1"
   ]
  },
  {
   "cell_type": "code",
   "execution_count": 25,
   "metadata": {},
   "outputs": [],
   "source": [
    "# circle_pack_df.to_csv(\"circle_pack_data.csv\", index=False)"
   ]
  },
  {
   "cell_type": "code",
   "execution_count": 26,
   "metadata": {},
   "outputs": [
    {
     "name": "stdout",
     "output_type": "stream",
     "text": [
      "<class 'pandas.core.frame.DataFrame'>\n",
      "RangeIndex: 2372 entries, 0 to 2371\n",
      "Data columns (total 9 columns):\n",
      "Industry            2372 non-null object\n",
      "Date                2372 non-null object\n",
      "StartupName         2372 non-null object\n",
      "IndustryVertical    2372 non-null object\n",
      "SubVertical         1436 non-null object\n",
      "CityLocation        2193 non-null object\n",
      "InvestorsName       2364 non-null object\n",
      "InvestmentType      2371 non-null object\n",
      "AmountInUSD         1525 non-null float64\n",
      "dtypes: float64(1), object(8)\n",
      "memory usage: 166.9+ KB\n"
     ]
    }
   ],
   "source": [
    "df.info()"
   ]
  },
  {
   "cell_type": "code",
   "execution_count": 27,
   "metadata": {},
   "outputs": [],
   "source": [
    "df.CityLocation.fillna(df.CityLocation.mode()[0], inplace=True)\n"
   ]
  },
  {
   "cell_type": "code",
   "execution_count": 28,
   "metadata": {},
   "outputs": [
    {
     "name": "stdout",
     "output_type": "stream",
     "text": [
      "<class 'pandas.core.frame.DataFrame'>\n",
      "RangeIndex: 2372 entries, 0 to 2371\n",
      "Data columns (total 9 columns):\n",
      "Industry            2372 non-null object\n",
      "Date                2372 non-null object\n",
      "StartupName         2372 non-null object\n",
      "IndustryVertical    2372 non-null object\n",
      "SubVertical         1436 non-null object\n",
      "CityLocation        2372 non-null object\n",
      "InvestorsName       2364 non-null object\n",
      "InvestmentType      2371 non-null object\n",
      "AmountInUSD         1525 non-null float64\n",
      "dtypes: float64(1), object(8)\n",
      "memory usage: 166.9+ KB\n"
     ]
    }
   ],
   "source": [
    "df.info()"
   ]
  },
  {
   "cell_type": "code",
   "execution_count": 29,
   "metadata": {},
   "outputs": [
    {
     "name": "stdout",
     "output_type": "stream",
     "text": [
      "<class 'pandas.core.frame.DataFrame'>\n",
      "RangeIndex: 2372 entries, 0 to 2371\n",
      "Data columns (total 9 columns):\n",
      "Industry            2372 non-null object\n",
      "Date                2372 non-null object\n",
      "StartupName         2372 non-null object\n",
      "IndustryVertical    2372 non-null object\n",
      "SubVertical         1436 non-null object\n",
      "CityLocation        2372 non-null object\n",
      "InvestorsName       2364 non-null object\n",
      "InvestmentType      2371 non-null object\n",
      "AmountInUSD         2372 non-null float64\n",
      "dtypes: float64(1), object(8)\n",
      "memory usage: 166.9+ KB\n"
     ]
    }
   ],
   "source": [
    "df.AmountInUSD.fillna(df.AmountInUSD.median(), inplace=True)\n",
    "df.info()"
   ]
  },
  {
   "cell_type": "code",
   "execution_count": 30,
   "metadata": {},
   "outputs": [
    {
     "data": {
      "text/plain": [
       "Industry              0\n",
       "Date                  0\n",
       "StartupName           0\n",
       "IndustryVertical      0\n",
       "SubVertical         936\n",
       "CityLocation          0\n",
       "InvestorsName         8\n",
       "InvestmentType        1\n",
       "AmountInUSD           0\n",
       "dtype: int64"
      ]
     },
     "execution_count": 30,
     "metadata": {},
     "output_type": "execute_result"
    }
   ],
   "source": [
    "df.isna().sum()"
   ]
  },
  {
   "cell_type": "code",
   "execution_count": 31,
   "metadata": {},
   "outputs": [
    {
     "data": {
      "text/plain": [
       "0       1/8/2017\n",
       "1       2/8/2017\n",
       "2       2/8/2017\n",
       "3       2/8/2017\n",
       "4       2/8/2017\n",
       "5       1/7/2017\n",
       "6       3/7/2017\n",
       "7       4/7/2017\n",
       "8       5/7/2017\n",
       "9       5/7/2017\n",
       "10      5/7/2017\n",
       "11      6/7/2017\n",
       "12      6/7/2017\n",
       "13      7/7/2017\n",
       "14      7/7/2017\n",
       "15     10/7/2017\n",
       "16     11/7/2017\n",
       "17     11/7/2017\n",
       "18     11/7/2017\n",
       "19     12/7/2017\n",
       "20     12/7/2017\n",
       "21     12/7/2017\n",
       "22     12/7/2017\n",
       "23    14/07/2017\n",
       "24    14/07/2017\n",
       "25    17/07/2017\n",
       "26    17/07/2017\n",
       "27    18/07/2017\n",
       "28    18/07/2017\n",
       "29    18/07/2017\n",
       "30    18/07/2017\n",
       "31    19/07/2017\n",
       "32    19/07/2017\n",
       "33    19/07/2017\n",
       "34    20/07/2017\n",
       "35    21/07/2017\n",
       "36    21/07/2017\n",
       "37    21/07/2017\n",
       "38    21/07/2017\n",
       "39    25/07/2017\n",
       "40    25/07/2017\n",
       "41    26/07/2017\n",
       "42    26/07/2017\n",
       "43    26/07/2017\n",
       "44    27/07/2017\n",
       "45    28/07/2017\n",
       "46    28/07/2017\n",
       "47    28/07/2017\n",
       "48      1/6/2017\n",
       "49      2/6/2017\n",
       "Name: Date, dtype: object"
      ]
     },
     "execution_count": 31,
     "metadata": {},
     "output_type": "execute_result"
    }
   ],
   "source": [
    "df.Date.head(50)"
   ]
  },
  {
   "cell_type": "code",
   "execution_count": 32,
   "metadata": {
    "scrolled": true
   },
   "outputs": [],
   "source": [
    "df[\"Funding_date\"] = pd.to_datetime(df['Date'], format='%d/%m/%Y', errors=\"coerce\")"
   ]
  },
  {
   "cell_type": "code",
   "execution_count": 33,
   "metadata": {},
   "outputs": [],
   "source": [
    "mask = df.Funding_date.isnull()\n",
    "df.loc[mask, 'Funding_date'] = pd.to_datetime(df[mask]['Date'], format='%d/%m.%Y',\n",
    "                                             errors='coerce')"
   ]
  },
  {
   "cell_type": "code",
   "execution_count": 34,
   "metadata": {},
   "outputs": [],
   "source": [
    "df.to_csv(\"time_series_visual_data.csv\")"
   ]
  },
  {
   "cell_type": "code",
   "execution_count": 35,
   "metadata": {},
   "outputs": [
    {
     "data": {
      "text/plain": [
       "6015335500.0"
      ]
     },
     "execution_count": 35,
     "metadata": {},
     "output_type": "execute_result"
    }
   ],
   "source": [
    "df.loc[df[\"Date\"].str.contains(\"2017\")].AmountInUSD.sum()"
   ]
  },
  {
   "cell_type": "code",
   "execution_count": 36,
   "metadata": {},
   "outputs": [
    {
     "data": {
      "text/plain": [
       "4263578608.0"
      ]
     },
     "execution_count": 36,
     "metadata": {},
     "output_type": "execute_result"
    }
   ],
   "source": [
    "df.loc[df[\"Date\"].str.contains(\"2016\")].AmountInUSD.sum()"
   ]
  },
  {
   "cell_type": "code",
   "execution_count": 37,
   "metadata": {},
   "outputs": [
    {
     "data": {
      "text/plain": [
       "True"
      ]
     },
     "execution_count": 37,
     "metadata": {},
     "output_type": "execute_result"
    }
   ],
   "source": [
    "4263578608.0 < 6015335500.0\n"
   ]
  },
  {
   "cell_type": "code",
   "execution_count": 38,
   "metadata": {},
   "outputs": [
    {
     "data": {
      "text/plain": [
       "8974762368.0"
      ]
     },
     "execution_count": 38,
     "metadata": {},
     "output_type": "execute_result"
    }
   ],
   "source": [
    "df.loc[df[\"Date\"].str.contains(\"2015\")].AmountInUSD.sum()"
   ]
  },
  {
   "cell_type": "code",
   "execution_count": 46,
   "metadata": {},
   "outputs": [
    {
     "data": {
      "text/plain": [
       "Private Equity    226\n",
       "Seed Funding      216\n",
       "Debt Funding        1\n",
       "Name: InvestmentType, dtype: int64"
      ]
     },
     "execution_count": 46,
     "metadata": {},
     "output_type": "execute_result"
    }
   ],
   "source": [
    "df.loc[df[\"Date\"].str.contains(\"2017\")].InvestmentType.value_counts()"
   ]
  },
  {
   "cell_type": "code",
   "execution_count": 53,
   "metadata": {},
   "outputs": [
    {
     "name": "stdout",
     "output_type": "stream",
     "text": [
      "<class 'pandas.core.frame.DataFrame'>\n",
      "Int64Index: 936 entries, 1436 to 2371\n",
      "Data columns (total 10 columns):\n",
      "Industry            936 non-null object\n",
      "Date                936 non-null object\n",
      "StartupName         936 non-null object\n",
      "IndustryVertical    936 non-null object\n",
      "SubVertical         0 non-null object\n",
      "CityLocation        936 non-null object\n",
      "InvestorsName       930 non-null object\n",
      "InvestmentType      936 non-null object\n",
      "AmountInUSD         936 non-null float64\n",
      "Funding_date        935 non-null datetime64[ns]\n",
      "dtypes: datetime64[ns](1), float64(1), object(8)\n",
      "memory usage: 80.4+ KB\n"
     ]
    }
   ],
   "source": [
    "df.loc[df[\"Date\"].str.contains(\"2015\")].info()"
   ]
  },
  {
   "cell_type": "code",
   "execution_count": 48,
   "metadata": {},
   "outputs": [
    {
     "name": "stdout",
     "output_type": "stream",
     "text": [
      "<class 'pandas.core.frame.DataFrame'>\n",
      "RangeIndex: 2372 entries, 0 to 2371\n",
      "Data columns (total 10 columns):\n",
      "Industry            2372 non-null object\n",
      "Date                2372 non-null object\n",
      "StartupName         2372 non-null object\n",
      "IndustryVertical    2372 non-null object\n",
      "SubVertical         1436 non-null object\n",
      "CityLocation        2372 non-null object\n",
      "InvestorsName       2364 non-null object\n",
      "InvestmentType      2371 non-null object\n",
      "AmountInUSD         2372 non-null float64\n",
      "Funding_date        2371 non-null datetime64[ns]\n",
      "dtypes: datetime64[ns](1), float64(1), object(8)\n",
      "memory usage: 185.4+ KB\n"
     ]
    }
   ],
   "source": [
    "df.info()"
   ]
  },
  {
   "cell_type": "code",
   "execution_count": null,
   "metadata": {},
   "outputs": [],
   "source": []
  }
 ],
 "metadata": {
  "kernelspec": {
   "display_name": "Python 3",
   "language": "python",
   "name": "python3"
  },
  "language_info": {
   "codemirror_mode": {
    "name": "ipython",
    "version": 3
   },
   "file_extension": ".py",
   "mimetype": "text/x-python",
   "name": "python",
   "nbconvert_exporter": "python",
   "pygments_lexer": "ipython3",
   "version": "3.7.3"
  }
 },
 "nbformat": 4,
 "nbformat_minor": 2
}
